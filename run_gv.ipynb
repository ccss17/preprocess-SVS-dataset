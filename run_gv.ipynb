{
 "cells": [
  {
   "cell_type": "code",
   "execution_count": 1,
   "metadata": {},
   "outputs": [],
   "source": [
    "from pathlib import Path\n",
    "import json\n",
    "\n",
    "from rich import print as rprint\n",
    "\n",
    "import midii\n",
    "\n",
    "import src.preprocess_svs as ps\n",
    "from src.preprocess_svs import gv"
   ]
  },
  {
   "cell_type": "markdown",
   "metadata": {},
   "source": [
    "# GV File Correction"
   ]
  },
  {
   "cell_type": "code",
   "execution_count": 2,
   "metadata": {},
   "outputs": [],
   "source": [
    "gv_path = \"D:/dataset/177.다음색 가이드보컬 데이터\"\n",
    "gv_json_sample = \"sample/gv/json\"\n",
    "gv_mid_sample = \"sample/gv/midi\"\n",
    "gv_sample_preprocessed = \"sample/gv/json_preprocessed\"\n",
    "gv_json_time_adjusted = \"D:/dataset/다음색 가이드보컬 데이터 time_adjusted\"\n",
    "gv_json_preprocessed = \"D:/dataset/다음색 가이드보컬 데이터 json preprocessed\"\n",
    "midi_filepath = \"sample/gv/midi/SINGER_16_10TO29_CLEAR_FEMALE_BALLAD_C0632.mid\"\n",
    "time_adjusted_json_filepath = \"sample/gv/json_time_adjusted/SINGER_16_10TO29_CLEAR_FEMALE_BALLAD_C0632.json\"\n",
    "filled_time_gaps_json_filepath = \"sample/gv/json_filled_time_gaps/SINGER_16_10TO29_CLEAR_FEMALE_BALLAD_C0632.json\""
   ]
  },
  {
   "cell_type": "code",
   "execution_count": null,
   "metadata": {},
   "outputs": [],
   "source": [
    "print(len(list(ps.get_files(gv_path, \"mid\"))))"
   ]
  },
  {
   "cell_type": "code",
   "execution_count": null,
   "metadata": {},
   "outputs": [],
   "source": [
    "mid = midii.MidiFile(midi_filepath, convert_1_to_0=True)\n",
    "tempo_rank = mid.tempo_rank()\n",
    "print(tempo_rank)\n",
    "print(ps.calculate_top_tempo_percentage(tempo_rank))"
   ]
  },
  {
   "cell_type": "markdown",
   "metadata": {},
   "source": [
    "## Analysis Tempo Deviation\n",
    "\n",
    "- json 을 처리하려면 quantize 를 위한 tempo 가 필요한데 json 에는 tempo 정보가 없음 \n",
    "- -> tempo rank 검사 \n",
    "- -> tempo 가 변하지 않는다는 충분한 보장\n",
    "- -> dominate tempo 를 채택하여 quantize 해도 된다"
   ]
  },
  {
   "cell_type": "code",
   "execution_count": 5,
   "metadata": {},
   "outputs": [],
   "source": [
    "# ps.tempo_statistics(gv_path, parallel=True, verbose=True)"
   ]
  },
  {
   "cell_type": "markdown",
   "metadata": {},
   "source": [
    "- -> 이전 end_time 이 현재 start_time 보다 큰 경우가 있음 \n",
    "- -> 이전 end_time 에 현재 start_time 을 맞추면, 뒤따라오는 메시지들의 sync 가 다 틀어짐 \n",
    "- -> 이전 end_time 을 현재 start_time 에 맞춰주는 게 더 나음"
   ]
  },
  {
   "cell_type": "markdown",
   "metadata": {},
   "source": [
    "## Verify notes sorted by time "
   ]
  },
  {
   "cell_type": "code",
   "execution_count": 6,
   "metadata": {},
   "outputs": [],
   "source": [
    "# gv.verify_json_notes_sorted_by_time(gv_path, parallel=True)"
   ]
  },
  {
   "cell_type": "code",
   "execution_count": 7,
   "metadata": {},
   "outputs": [],
   "source": [
    "def adjust_note_times_sample():\n",
    "    gv_path = \"sample/gv/json\"\n",
    "    for json_path in ps.get_files(gv_path, \"json\"):\n",
    "        p_orig = Path(json_path)\n",
    "        out_path = p_orig.parent.parent / \"json_time_adjusted\" / p_orig.name\n",
    "        out_path.parent.mkdir(exist_ok=True, parents=True)\n",
    "        print(f\"adjust time of \\n{json_path}\")\n",
    "        with open(json_path, \"r\", encoding=\"utf-8\") as f:\n",
    "            data = json.load(f)\n",
    "        notes = data.get(\"notes\")\n",
    "        processed_notes = gv.adjust_note_times(notes)\n",
    "        with open(out_path, \"w\", encoding=\"utf-8\") as f:\n",
    "            json.dump(processed_notes, f, ensure_ascii=False, indent=4)\n",
    "        print(f\"saved to \\n{out_path}\")"
   ]
  },
  {
   "cell_type": "code",
   "execution_count": null,
   "metadata": {},
   "outputs": [],
   "source": [
    "adjust_note_times_sample()"
   ]
  },
  {
   "cell_type": "markdown",
   "metadata": {},
   "source": [
    "## fill silence note between notes"
   ]
  },
  {
   "cell_type": "code",
   "execution_count": null,
   "metadata": {},
   "outputs": [],
   "source": [
    "print(time_adjusted_json_filepath)\n",
    "print(filled_time_gaps_json_filepath)"
   ]
  },
  {
   "cell_type": "code",
   "execution_count": null,
   "metadata": {},
   "outputs": [],
   "source": [
    "gv.fill_time_gaps_save(time_adjusted_json_filepath, filled_time_gaps_json_filepath)"
   ]
  },
  {
   "cell_type": "markdown",
   "metadata": {},
   "source": [
    "## verify correspondence json vs wav vs mid "
   ]
  },
  {
   "cell_type": "code",
   "execution_count": null,
   "metadata": {},
   "outputs": [],
   "source": [
    "jsons = ps.get_files(gv_path, \"json\", sort=True)\n",
    "mids = ps.get_files(gv_path, \"mid\", sort=True)\n",
    "wavs = ps.get_files(gv_path, \"wav\", sort=True)\n",
    "rprint(gv.verify_files_coherent(jsons, mids))\n",
    "rprint(gv.verify_files_coherent(wavs, mids))\n",
    "rprint(gv.verify_files_coherent(jsons, wavs))"
   ]
  },
  {
   "cell_type": "markdown",
   "metadata": {},
   "source": [
    "## Remove abnormal files"
   ]
  },
  {
   "cell_type": "code",
   "execution_count": null,
   "metadata": {},
   "outputs": [],
   "source": [
    "gv.remove_abnormal_file(gv_path)"
   ]
  },
  {
   "cell_type": "markdown",
   "metadata": {},
   "source": [
    "# GV Preprocessing"
   ]
  },
  {
   "cell_type": "code",
   "execution_count": 3,
   "metadata": {},
   "outputs": [],
   "source": [
    "json_filepath = \"sample/gv/json_preprocessed/SINGER_16_10TO29_CLEAR_FEMALE_BALLAD_C0632.json\"\n",
    "split_json_filepath = \"sample/gv/split_json/SINGER_16_10TO29_CLEAR_FEMALE_BALLAD_C0632.json\"\n",
    "preprocessed_gv_path = \"preprocessed_gv/\"\n",
    "preprocessed_gv_duration_path = \"preprocessed_gv/duration\"\n",
    "preprocessed_gv_pitch_path = \"preprocessed_gv/pitch\"\n",
    "preprocessed_gv_wav_path = \"preprocessed_gv/wav\""
   ]
  },
  {
   "cell_type": "markdown",
   "metadata": {},
   "source": [
    "## Step 1 - preprocess gv json\n",
    "\n",
    "- gv json -> adjust note times + fill time gaps + quantization + frames\n",
    "- embed coherent json format(sharing with mssv)"
   ]
  },
  {
   "cell_type": "code",
   "execution_count": 4,
   "metadata": {},
   "outputs": [
    {
     "name": "stdout",
     "output_type": "stream",
     "text": [
      "sample/gv/json sample/gv/midi sample/gv/json_preprocessed\n"
     ]
    }
   ],
   "source": [
    "print(gv_json_sample, gv_mid_sample, gv_sample_preprocessed)"
   ]
  },
  {
   "cell_type": "code",
   "execution_count": 5,
   "metadata": {},
   "outputs": [],
   "source": [
    "gv.preprocess_json(\n",
    "    gv_json_sample, gv_mid_sample, gv_sample_preprocessed, parallel=True\n",
    ")"
   ]
  },
  {
   "cell_type": "code",
   "execution_count": 6,
   "metadata": {},
   "outputs": [],
   "source": [
    "# gv.preprocess_json(\n",
    "#     gv,\n",
    "#     gv,\n",
    "#     gv_json_preprocessed,\n",
    "#     parallel=True,\n",
    "# )"
   ]
  },
  {
   "cell_type": "markdown",
   "metadata": {},
   "source": [
    "## Step 2 - split notes by silence"
   ]
  },
  {
   "cell_type": "code",
   "execution_count": 7,
   "metadata": {},
   "outputs": [],
   "source": [
    "split_json = ps.split_json_by_silence(json_filepath, min_length=6)\n",
    "split_json_filepath = Path(split_json_filepath)\n",
    "split_json_filepath.parent.mkdir(exist_ok=True, parents=True)\n",
    "with open(split_json_filepath, \"w\", encoding=\"utf-8\") as f:\n",
    "    json.dump(split_json, f, indent=4, ensure_ascii=False)"
   ]
  },
  {
   "cell_type": "markdown",
   "metadata": {},
   "source": [
    "## Step 3 or Step 4\n",
    "\n",
    "- regularization korean (metadata.txt 의 가사의 글자 갯수가 split 된 duration/pitch/wav 의 갯수와 일치해야 하는지? 만약 일치하지 않아도 된다면, step 4 에 해도 되고, json 이 아니라 kor seq/pitch seq/GT 만 받아도 해도 된다)"
   ]
  },
  {
   "cell_type": "code",
   "execution_count": 8,
   "metadata": {},
   "outputs": [
    {
     "data": {
      "text/plain": [
       "PosixPath('sample/gv/split_json/SINGER_16_10TO29_CLEAR_FEMALE_BALLAD_C0632.json')"
      ]
     },
     "execution_count": 8,
     "metadata": {},
     "output_type": "execute_result"
    }
   ],
   "source": [
    "split_json_filepath"
   ]
  },
  {
   "cell_type": "markdown",
   "metadata": {},
   "source": [
    "## Step 4 - save duration, pitch as npy file, split audio, save metadata"
   ]
  },
  {
   "cell_type": "code",
   "execution_count": 9,
   "metadata": {},
   "outputs": [],
   "source": [
    "wav_filepath = \"sample/gv/wav/SINGER_16_10TO29_CLEAR_FEMALE_BALLAD_C0632.wav\""
   ]
  },
  {
   "cell_type": "code",
   "execution_count": 10,
   "metadata": {},
   "outputs": [],
   "source": [
    "metadata_list = []\n",
    "metadata_list.append(\n",
    "    gv.preprocess_one(\n",
    "        wav_filepath,\n",
    "        split_json_filepath,\n",
    "        preprocessed_gv_pitch_path,\n",
    "        preprocessed_gv_duration_path,\n",
    "        preprocessed_gv_wav_path,\n",
    "    )\n",
    ")\n",
    "preprocessed_gv_path = Path(preprocessed_gv_path)\n",
    "preprocessed_gv_path.mkdir(exist_ok=True, parents=True)\n",
    "with open(f\"{preprocessed_gv_path}/metadata.txt\", \"w\", encoding=\"utf-8\") as f:\n",
    "    f.write(\"\".join(metadata_list))"
   ]
  },
  {
   "cell_type": "markdown",
   "metadata": {},
   "source": [
    "## Normalizer 사용 설명\n",
    "\n",
    "### 1. lyric_normalizer.py의 LyricNormalizer 클래스 import\n",
    "### 2. LyricNormalizer 객체 생성\n",
    "### 3. LyricNormalizer.normalize_lyrics() 함수 사용\n",
    "#### &emsp; Input: GT(whisper result), 원본 가사, pitch sequence, duration sequence\n",
    "#### &emsp; Output: 정규화 가사, pitch sequence, duration sequence, 정규화 정보를 담은 dictionary\n"
   ]
  },
  {
   "cell_type": "code",
   "execution_count": 12,
   "metadata": {},
   "outputs": [
    {
     "name": "stdout",
     "output_type": "stream",
     "text": [
      "------------------------------------------\n",
      "Loading Whisper model at 2025-06-02 16:26:49.133318\n",
      "Model loaded in 27.27 seconds\n",
      "------------------------------------------\n",
      "----------------------------------------------\n",
      "Processing: SINGER_16_10TO29_CLEAR_FEMALE_BALLAD_C0632_00\n",
      "  Original Lyrics: '사아라앙해앤나요오나아보오다도오 내애가아아니인그으녀어와이인느은니이' (35)\n",
      "  STT Result: ' 사랑했나요 나보다도 내가 아닌 그녀와 있는 이' (1.13 seconds)\n",
      "  Original Pitch Sequence: [60, 60, 60, 60, 61, 61, 60, 58, 58, 60, 60, 58, 58, 56, 56, 56, 0, 56, 56, 65, 65, 64, 65, 65, 56, 56, 55, 55, 56, 58, 58, 63, 63, 61, 61], 35\n",
      "  Original Duration Sequence: [9, 14, 9, 9, 9, 9, 9, 9, 19, 9, 5, 14, 5, 9, 14, 42, 51, 9, 5, 14, 9, 9, 14, 9, 9, 14, 9, 9, 9, 9, 19, 9, 9, 9, 28], 35\n",
      "  Normalized Lyrics: '사랑했나요나보다도 내가아아닌그녀와있는이' (21)\n",
      "  Normalized Durations: [23, 18, 18, 9, 28, 14, 19, 9, 56, 51, 14, 14, 9, 9, 23, 23, 18, 9, 28, 18, 37], 21\n",
      "  Normalized Pitch Sequence: [60, 60, 61, 60, 58, 60, 58, 56, 56, 0, 56, 65, 65, 64, 65, 56, 55, 56, 58, 63, 61], 21\n",
      "\n",
      "----------------------------------------------\n",
      "Processing: SINGER_16_10TO29_CLEAR_FEMALE_BALLAD_C0632_01\n",
      "  Original Lyrics: '모오스읍 처어으매앤너어이일거라아새앵각모오테써어' (25)\n",
      "  STT Result: ' 처음엔 너일 거라 생각 못했어' (0.77 seconds)\n",
      "  Original Pitch Sequence: [60, 60, 60, 60, 0, 61, 61, 60, 58, 58, 61, 61, 60, 60, 55, 60, 60, 58, 58, 56, 60, 60, 56, 58, 58], 25\n",
      "  Original Duration Sequence: [5, 9, 19, 23, 19, 9, 9, 56, 9, 9, 9, 9, 5, 9, 14, 9, 9, 14, 14, 9, 14, 5, 19, 9, 37], 25\n",
      "  Error during text normalization for SINGER_16_10TO29_CLEAR_FEMALE_BALLAD_C0632_01: gt_text: 처음엔너일거라생각못했어\n",
      "raw_text: 모오스읍처어으매앤너어이일거라아새앵각모오테써어\n",
      "DTW 행렬의 위치 [0, 13]에서 잘못된 경로 정보를 발견했습니다. 2개의 정수로 구성된 튜플이 필요하지만, 다음을 받았습니다: None\n",
      "----------------------------------------------\n",
      "Processing: SINGER_16_10TO29_CLEAR_FEMALE_BALLAD_C0632_02\n",
      "  Original Lyrics: '나아너어느새애보오고오마니이써어써어 미이들수우업써어' (27)\n",
      "  STT Result: ' 난 어느새 보고만 있었어 믿을 수 없어' (1.02 seconds)\n",
      "  Original Pitch Sequence: [56, 56, 56, 56, 55, 56, 56, 61, 61, 58, 58, 58, 60, 60, 58, 58, 56, 56, 0, 56, 56, 56, 60, 60, 63, 65, 65], 27\n",
      "  Original Duration Sequence: [9, 9, 9, 5, 9, 9, 19, 14, 5, 14, 5, 14, 9, 9, 9, 9, 9, 42, 28, 9, 9, 9, 9, 23, 9, 14, 33], 27\n",
      "  Normalized Lyrics: '난어느새보고만있었어 믿을수없어' (16)\n",
      "  Normalized Durations: [18, 14, 9, 28, 19, 19, 14, 18, 18, 51, 28, 18, 9, 32, 9, 47], 16\n",
      "  Normalized Pitch Sequence: [56, 56, 55, 56, 61, 58, 58, 60, 58, 56, 0, 56, 56, 60, 63, 65], 16\n",
      "\n",
      "----------------------------------------------\n",
      "Processing: SINGER_16_10TO29_CLEAR_FEMALE_BALLAD_C0632_03\n",
      "  Original Lyrics: '우리이에사아라앙으은 지이루우한지이또오그러케에' (24)\n",
      "  STT Result: ' 우리의 사랑은 지루한 짓도 그렇게' (0.91 seconds)\n",
      "  Original Pitch Sequence: [56, 55, 55, 56, 58, 58, 65, 65, 63, 63, 0, 63, 63, 65, 65, 66, 65, 65, 63, 63, 63, 61, 61, 61], 24\n",
      "  Original Duration Sequence: [19, 9, 9, 5, 9, 23, 9, 9, 14, 23, 14, 9, 14, 9, 9, 9, 9, 14, 14, 5, 14, 5, 19, 9], 24\n",
      "  Normalized Lyrics: '우리의사랑은 지루한짓도그렇게' (15)\n",
      "  Normalized Durations: [19, 18, 5, 32, 18, 37, 14, 23, 18, 9, 23, 19, 14, 5, 28], 15\n",
      "  Normalized Pitch Sequence: [56, 55, 56, 58, 65, 63, 0, 63, 65, 66, 65, 63, 63, 61, 61], 15\n",
      "\n",
      "----------------------------------------------\n",
      "Processing: SINGER_16_10TO29_CLEAR_FEMALE_BALLAD_C0632_04\n",
      "  Original Lyrics: '하아루우를떼에워어가아는데에 되에돌리이기이에엔' (24)\n",
      "  STT Result: ' 하루를 때워가는 데 되돌리기엔' (0.93 seconds)\n",
      "  Original Pitch Sequence: [56, 56, 55, 55, 56, 58, 58, 63, 63, 61, 61, 60, 60, 60, 0, 56, 56, 56, 60, 60, 63, 63, 65, 65], 24\n",
      "  Original Duration Sequence: [14, 9, 9, 9, 5, 14, 19, 9, 5, 14, 9, 9, 9, 19, 19, 9, 9, 9, 9, 19, 9, 9, 19, 19], 24\n",
      "  Normalized Lyrics: '하루를때워가는데 되돌리기엔' (14)\n",
      "  Normalized Durations: [23, 18, 5, 33, 14, 23, 9, 28, 19, 18, 9, 28, 18, 38], 14\n",
      "  Normalized Pitch Sequence: [56, 55, 56, 58, 63, 61, 60, 60, 0, 56, 56, 60, 63, 65], 14\n",
      "\n",
      "----------------------------------------------\n",
      "Processing: SINGER_16_10TO29_CLEAR_FEMALE_BALLAD_C0632_05\n",
      "  Original Lyrics: '초옴느으즌거어까아타아 우리이 그으녀르을너무우마니이사아라앙해애보오여어' (37)\n",
      "  STT Result: ' 좀 늦은 것 같아 우리 그녀를 너무 많이 사랑해 보여' (1.24 seconds)\n",
      "  Original Pitch Sequence: [68, 68, 67, 67, 68, 67, 67, 65, 65, 63, 63, 0, 67, 68, 68, 0, 65, 65, 67, 68, 68, 65, 65, 65, 67, 68, 68, 65, 65, 71, 72, 73, 73, 72, 72, 70, 70], 37\n",
      "  Original Duration Sequence: [9, 9, 9, 5, 14, 9, 19, 9, 9, 9, 14, 14, 19, 9, 51, 28, 9, 14, 9, 9, 19, 9, 9, 9, 9, 9, 5, 9, 14, 5, 14, 9, 9, 9, 9, 9, 69], 37\n",
      "  Normalized Lyrics: '좀늦은것같아 우리 그녀를너무많이사라앙해보여' (23)\n",
      "  Normalized Durations: [18, 14, 14, 28, 18, 23, 14, 19, 60, 28, 23, 9, 28, 9, 18, 9, 14, 23, 5, 14, 18, 18, 78], 23\n",
      "  Normalized Pitch Sequence: [68, 67, 68, 67, 65, 63, 0, 67, 68, 0, 65, 67, 68, 65, 65, 67, 68, 65, 71, 72, 73, 72, 70], 23\n",
      "\n",
      "----------------------------------------------\n",
      "Processing: SINGER_16_10TO29_CLEAR_FEMALE_BALLAD_C0632_06\n",
      "  Original Lyrics: '하아느을너어 머어로오 모드으은' (16)\n",
      "  STT Result: ' 하늘 너머로 모든' (0.99 seconds)\n",
      "  Original Pitch Sequence: [60, 60, 63, 63, 69, 70, 0, 72, 72, 70, 70, 0, 67, 68, 68, 68], 16\n",
      "  Original Duration Sequence: [9, 14, 9, 9, 5, 51, 51, 9, 9, 9, 28, 19, 9, 14, 28, 23], 16\n",
      "  Normalized Lyrics: '하늘너어 머로 모든' (10)\n",
      "  Normalized Durations: [23, 18, 5, 51, 51, 18, 37, 19, 9, 65], 10\n",
      "  Normalized Pitch Sequence: [60, 63, 69, 70, 0, 72, 70, 0, 67, 68], 10\n",
      "\n",
      "----------------------------------------------\n",
      "Processing: SINGER_16_10TO29_CLEAR_FEMALE_BALLAD_C0632_07\n",
      "  Original Lyrics: '추우억모오두우저어멀리이로오널떠어나보오내앨께에' (24)\n",
      "  STT Result: ' 추억 모두 저 멀리로 널 떠나보낼게' (1.08 seconds)\n",
      "  Original Pitch Sequence: [74, 75, 73, 73, 73, 72, 72, 73, 73, 72, 70, 70, 68, 68, 65, 65, 65, 67, 68, 68, 72, 72, 70, 70], 24\n",
      "  Original Duration Sequence: [14, 9, 9, 9, 19, 9, 9, 9, 9, 9, 9, 9, 5, 9, 14, 9, 5, 14, 9, 9, 19, 9, 9, 65], 24\n",
      "  Normalized Lyrics: '추우억모두저멀리로널떠나보낼게' (15)\n",
      "  Normalized Durations: [14, 9, 9, 28, 18, 18, 9, 18, 14, 14, 14, 14, 18, 28, 74], 15\n",
      "  Normalized Pitch Sequence: [74, 75, 73, 73, 72, 73, 72, 70, 68, 65, 65, 67, 68, 72, 70], 15\n",
      "\n",
      "----------------------------------------------\n",
      "Processing: SINGER_16_10TO29_CLEAR_FEMALE_BALLAD_C0632_08\n",
      "  Original Lyrics: '누우느을가아암느은다아이제에엔 내누운가드윽보오이느은그으대모오스비이' (35)\n",
      "  STT Result: ' 눈을 감는다 이젠 내 눈 가득 보이는 그대 모습이' (1.21 seconds)\n",
      "  Original Pitch Sequence: [60, 60, 63, 63, 69, 70, 70, 72, 72, 70, 70, 67, 68, 68, 68, 0, 72, 72, 72, 70, 73, 73, 72, 72, 70, 68, 68, 67, 67, 68, 72, 72, 73, 70, 70], 35\n",
      "  Original Duration Sequence: [9, 14, 9, 9, 9, 28, 14, 9, 14, 9, 33, 23, 9, 28, 23, 14, 9, 9, 9, 9, 9, 19, 9, 9, 9, 9, 19, 9, 9, 9, 9, 14, 14, 9, 23], 35\n",
      "  Normalized Lyrics: '눈을가암는다이젠 내눈가득보이는그대모습이' (21)\n",
      "  Normalized Durations: [23, 18, 9, 42, 23, 42, 23, 60, 14, 9, 18, 9, 28, 18, 9, 28, 18, 9, 23, 14, 32], 21\n",
      "  Normalized Pitch Sequence: [60, 63, 69, 70, 72, 70, 67, 68, 0, 72, 72, 70, 73, 72, 70, 68, 67, 68, 72, 73, 70], 21\n",
      "\n",
      "----------------------------------------------\n",
      "Processing: SINGER_16_10TO29_CLEAR_FEMALE_BALLAD_C0632_09\n",
      "  Original Lyrics: '너어무미이워어서어 사아라앙하아겠죠오나아보오다도오' (26)\n",
      "  STT Result: ' 너무 미워서 사랑하겠죠 나보다도' (0.99 seconds)\n",
      "  Original Pitch Sequence: [72, 72, 70, 68, 68, 67, 67, 68, 68, 0, 60, 60, 60, 60, 61, 61, 60, 58, 58, 60, 60, 58, 58, 56, 56, 56], 26\n",
      "  Original Duration Sequence: [9, 9, 9, 9, 14, 9, 9, 14, 79, 240, 9, 14, 9, 9, 9, 9, 5, 14, 19, 9, 9, 9, 9, 9, 9, 42], 26\n",
      "  Normalized Lyrics: '너무미워서 사랑하겠죠나보다도' (15)\n",
      "  Normalized Durations: [18, 9, 23, 18, 93, 240, 23, 18, 18, 5, 33, 18, 18, 9, 51], 15\n",
      "  Normalized Pitch Sequence: [72, 70, 68, 67, 68, 0, 60, 60, 61, 60, 58, 60, 58, 56, 56], 15\n",
      "\n",
      "----------------------------------------------\n",
      "Processing: SINGER_16_10TO29_CLEAR_FEMALE_BALLAD_C0632_10\n",
      "  Original Lyrics: '내애가아아니인그으녀어와이쓰을니이 모오스읍' (22)\n",
      "  STT Result: ' 내가 아는 그녀와 있을 네 모습' (0.74 seconds)\n",
      "  Original Pitch Sequence: [56, 56, 65, 65, 64, 65, 65, 56, 56, 55, 55, 56, 58, 63, 63, 61, 61, 0, 60, 60, 60, 60], 22\n",
      "  Original Duration Sequence: [9, 9, 9, 9, 9, 14, 14, 9, 9, 9, 9, 5, 23, 14, 14, 9, 28, 14, 9, 9, 19, 23], 22\n",
      "  Error during text normalization for SINGER_16_10TO29_CLEAR_FEMALE_BALLAD_C0632_10: gt_text: 내가아는그녀와있을네모습\n",
      "raw_text: 내애가아아니인그으녀어와이쓰을니이모오스읍\n",
      "DTW 행렬의 위치 [0, 13]에서 잘못된 경로 정보를 발견했습니다. 2개의 정수로 구성된 튜플이 필요하지만, 다음을 받았습니다: None\n",
      "----------------------------------------------\n",
      "Processing: SINGER_16_10TO29_CLEAR_FEMALE_BALLAD_C0632_11\n",
      "  Original Lyrics: '처어으매앤너어이일꺼라아 새앵각모오테써어' (21)\n",
      "  STT Result: ' 처음엔 너일 거라 생각 못했어' (0.75 seconds)\n",
      "  Original Pitch Sequence: [61, 61, 60, 58, 58, 61, 61, 60, 60, 55, 60, 60, 0, 58, 58, 56, 60, 60, 56, 58, 58], 21\n",
      "  Original Duration Sequence: [9, 9, 56, 9, 9, 9, 9, 9, 5, 14, 5, 9, 19, 9, 9, 14, 9, 9, 19, 9, 33], 21\n",
      "  Normalized Lyrics: '처음엔너일거라 생각못했어' (13)\n",
      "  Normalized Durations: [18, 56, 18, 18, 14, 14, 14, 19, 18, 14, 18, 19, 42], 13\n",
      "  Normalized Pitch Sequence: [61, 60, 58, 61, 60, 55, 60, 0, 58, 56, 60, 56, 58], 13\n",
      "\n",
      "----------------------------------------------\n",
      "Processing: SINGER_16_10TO29_CLEAR_FEMALE_BALLAD_C0632_12\n",
      "  Original Lyrics: '나아너어느새애보오고오마니이써어써어 미이들쑤우업써어' (27)\n",
      "  STT Result: ' 난 어느새 보고만 있었어 믿을 수 없어' (0.94 seconds)\n",
      "  Original Pitch Sequence: [56, 56, 56, 56, 55, 56, 56, 61, 61, 58, 58, 58, 60, 60, 58, 58, 56, 56, 0, 56, 56, 56, 60, 60, 63, 65, 65], 27\n",
      "  Original Duration Sequence: [9, 9, 9, 9, 5, 9, 23, 9, 9, 9, 9, 9, 9, 9, 9, 9, 9, 46, 28, 9, 5, 9, 9, 23, 9, 14, 33], 27\n",
      "  Normalized Lyrics: '난어느새보고만있었어 믿을수없어' (16)\n",
      "  Normalized Durations: [18, 18, 5, 32, 18, 18, 9, 18, 18, 55, 28, 14, 9, 32, 9, 47], 16\n",
      "  Normalized Pitch Sequence: [56, 56, 55, 56, 61, 58, 58, 60, 58, 56, 0, 56, 56, 60, 63, 65], 16\n",
      "\n",
      "----------------------------------------------\n",
      "Processing: SINGER_16_10TO29_CLEAR_FEMALE_BALLAD_C0632_13\n",
      "  Original Lyrics: '우리이에사아라앙으은 지이루우한지이또오그러케에' (24)\n",
      "  STT Result: ' 우리의 사랑은 지루한 짓도 그렇게' (0.84 seconds)\n",
      "  Original Pitch Sequence: [56, 55, 55, 56, 58, 58, 65, 65, 63, 63, 0, 63, 63, 65, 65, 66, 65, 65, 63, 63, 63, 61, 61, 61], 24\n",
      "  Original Duration Sequence: [19, 9, 9, 5, 9, 23, 9, 9, 19, 19, 14, 14, 9, 9, 9, 9, 9, 14, 14, 9, 9, 9, 9, 9], 24\n",
      "  Normalized Lyrics: '우리의사랑은 지루한짓도그렇게' (15)\n",
      "  Normalized Durations: [19, 18, 5, 32, 18, 38, 14, 23, 18, 9, 23, 23, 9, 9, 18], 15\n",
      "  Normalized Pitch Sequence: [56, 55, 56, 58, 65, 63, 0, 63, 65, 66, 65, 63, 63, 61, 61], 15\n",
      "\n",
      "----------------------------------------------\n",
      "Processing: SINGER_16_10TO29_CLEAR_FEMALE_BALLAD_C0632_14\n",
      "  Original Lyrics: '하아루우를 떼에워어가아는데에 되에돌리이기이에엔' (25)\n",
      "  STT Result: ' 하루를 때워 가는데 되돌리기엔' (0.95 seconds)\n",
      "  Original Pitch Sequence: [56, 56, 55, 55, 56, 0, 58, 58, 63, 63, 61, 61, 60, 60, 60, 0, 56, 56, 56, 60, 60, 63, 63, 65, 65], 25\n",
      "  Original Duration Sequence: [9, 14, 5, 9, 14, 14, 9, 14, 14, 9, 5, 9, 14, 9, 19, 19, 9, 9, 9, 9, 19, 9, 14, 19, 14], 25\n",
      "  Normalized Lyrics: '하루를 때워가는데 되돌리기엔' (15)\n",
      "  Normalized Durations: [23, 14, 14, 14, 23, 23, 14, 14, 28, 19, 18, 9, 28, 23, 33], 15\n",
      "  Normalized Pitch Sequence: [56, 55, 56, 0, 58, 63, 61, 60, 60, 0, 56, 56, 60, 63, 65], 15\n",
      "\n",
      "----------------------------------------------\n",
      "Processing: SINGER_16_10TO29_CLEAR_FEMALE_BALLAD_C0632_15\n",
      "  Original Lyrics: '조옴느으즌거어까아타아 우리이 그으녀르을' (21)\n",
      "  STT Result: ' 좀 늦은 것 같아 우리 그녀를' (0.89 seconds)\n",
      "  Original Pitch Sequence: [68, 68, 67, 67, 68, 67, 67, 65, 65, 63, 63, 0, 67, 68, 68, 0, 65, 65, 67, 68, 68], 21\n",
      "  Original Duration Sequence: [14, 9, 5, 9, 14, 9, 14, 14, 9, 9, 14, 14, 19, 9, 56, 23, 9, 9, 14, 14, 9], 21\n",
      "  Normalized Lyrics: '좀늦은것같아 우리 그녀를' (13)\n",
      "  Normalized Durations: [23, 14, 14, 23, 23, 23, 14, 19, 65, 23, 18, 14, 23], 13\n",
      "  Normalized Pitch Sequence: [68, 67, 68, 67, 65, 63, 0, 67, 68, 0, 65, 67, 68], 13\n",
      "\n",
      "----------------------------------------------\n",
      "Processing: SINGER_16_10TO29_CLEAR_FEMALE_BALLAD_C0632_16\n",
      "  Original Lyrics: '너무우마니이 사아라앙해애보오여어 하아느을너어머어로오' (28)\n",
      "  STT Result: ' 너무 많이 사랑해 보여 하늘 너머로' (0.94 seconds)\n",
      "  Original Pitch Sequence: [65, 65, 65, 67, 68, 68, 0, 65, 65, 71, 72, 73, 73, 72, 72, 70, 70, 0, 60, 60, 63, 63, 69, 70, 72, 72, 70, 70], 28\n",
      "  Original Duration Sequence: [9, 9, 9, 5, 9, 14, 14, 14, 9, 9, 9, 9, 9, 9, 9, 9, 51, 65, 14, 9, 9, 9, 9, 46, 9, 9, 9, 33], 28\n",
      "  Normalized Lyrics: '너무많이 사라앙해보여 하늘너어머로' (18)\n",
      "  Normalized Durations: [9, 18, 5, 23, 14, 23, 9, 9, 18, 18, 60, 65, 23, 18, 9, 46, 18, 42], 18\n",
      "  Normalized Pitch Sequence: [65, 65, 67, 68, 0, 65, 71, 72, 73, 72, 70, 0, 60, 63, 69, 70, 72, 70], 18\n",
      "\n",
      "----------------------------------------------\n",
      "Processing: SINGER_16_10TO29_CLEAR_FEMALE_BALLAD_C0632_17\n",
      "  Original Lyrics: '모드으은 추우억모오두우저어멀리이로오널떠어나보오내앨께에' (29)\n",
      "  STT Result: ' 모든 추억 모두 저 멀리로 널 떠나보낼게' (1.17 seconds)\n",
      "  Original Pitch Sequence: [67, 68, 68, 68, 0, 74, 75, 73, 73, 73, 72, 72, 73, 73, 72, 70, 70, 68, 68, 65, 65, 65, 67, 68, 68, 72, 72, 70, 70], 29\n",
      "  Original Duration Sequence: [9, 9, 28, 28, 14, 9, 14, 9, 9, 19, 5, 9, 9, 14, 9, 9, 9, 5, 9, 14, 9, 9, 9, 9, 19, 9, 5, 14, 42], 29\n",
      "  Normalized Lyrics: '모든 추우억모두저멀리로널떠나보낼게' (18)\n",
      "  Normalized Durations: [9, 65, 14, 9, 14, 9, 28, 14, 23, 9, 18, 14, 14, 18, 9, 28, 14, 56], 18\n",
      "  Normalized Pitch Sequence: [67, 68, 0, 74, 75, 73, 73, 72, 73, 72, 70, 68, 65, 65, 67, 68, 72, 70], 18\n",
      "\n",
      "----------------------------------------------\n",
      "Processing: SINGER_16_10TO29_CLEAR_FEMALE_BALLAD_C0632_18\n",
      "  Original Lyrics: '누우느을가아암느은다아 이제에엔 내누운가드윽보오이느은그으대모오스비이' (36)\n",
      "  STT Result: ' 눈을 감는다 이젠 내 눈 가득 보이는 그대 모습이' (1.14 seconds)\n",
      "  Original Pitch Sequence: [60, 60, 63, 63, 69, 70, 70, 72, 72, 70, 70, 0, 67, 68, 68, 68, 0, 72, 72, 72, 70, 73, 73, 72, 72, 70, 68, 68, 67, 67, 68, 72, 72, 73, 70, 70], 36\n",
      "  Original Duration Sequence: [9, 9, 9, 9, 9, 33, 14, 9, 9, 9, 28, 19, 9, 9, 28, 19, 14, 14, 9, 9, 9, 14, 14, 9, 9, 9, 14, 14, 9, 5, 14, 9, 14, 14, 9, 19], 36\n",
      "  Normalized Lyrics: '눈을가암는다 이젠 내눈가득보이는그대모습이' (22)\n",
      "  Normalized Durations: [18, 18, 9, 47, 18, 37, 19, 9, 56, 14, 14, 18, 9, 28, 18, 9, 28, 14, 14, 23, 14, 28], 22\n",
      "  Normalized Pitch Sequence: [60, 63, 69, 70, 72, 70, 0, 67, 68, 0, 72, 72, 70, 73, 72, 70, 68, 67, 68, 72, 73, 70], 22\n",
      "\n",
      "----------------------------------------------\n",
      "Processing: SINGER_16_10TO29_CLEAR_FEMALE_BALLAD_C0632_19\n",
      "  Original Lyrics: '너어무미이워어서어' (9)\n",
      "  STT Result: ' 너무 미워서' (0.47 seconds)\n",
      "  Original Pitch Sequence: [72, 72, 70, 68, 68, 67, 67, 68, 68], 9\n",
      "  Original Duration Sequence: [14, 9, 9, 9, 14, 9, 9, 9, 69], 9\n",
      "  Normalized Lyrics: '너무미워서' (5)\n",
      "  Normalized Durations: [23, 9, 23, 18, 78], 5\n",
      "  Normalized Pitch Sequence: [72, 70, 68, 67, 68], 5\n",
      "\n",
      "\n",
      "Writing normalized metadata to: preprocessed_gv/normalized_metadata.txt\n",
      "Done.\n"
     ]
    }
   ],
   "source": [
    "import numpy as np\n",
    "import whisper\n",
    "import time\n",
    "from datetime import datetime\n",
    "\n",
    "from src.preprocess_svs.lyric_normalizer import LyricNormalizer\n",
    "\n",
    "metadata_filepath = preprocessed_gv_path / \"metadata.txt\"\n",
    "wav_base_path = preprocessed_gv_path / \"wav\"\n",
    "pitch_base_path = preprocessed_gv_path / \"pitch\"\n",
    "duration_base_path = preprocessed_gv_path / \"duration\"\n",
    "normalized_metadata_filepath = preprocessed_gv_path / \"normalized_metadata.txt\"\n",
    "\n",
    "lyric_normalizer = LyricNormalizer()\n",
    "processed_lines = []\n",
    "\n",
    "print(\"------------------------------------------\")\n",
    "print(f\"Loading Whisper model at {datetime.now()}\")\n",
    "start_time = time.time()\n",
    "model = whisper.load_model(\"large-v3\", device=\"cuda\")\n",
    "end_time = time.time()\n",
    "print(f\"Model loaded in {end_time - start_time:.2f} seconds\")\n",
    "print(\"------------------------------------------\")\n",
    "\n",
    "with open(metadata_filepath, \"r\", encoding=\"utf-8\") as f_meta:\n",
    "    for line in f_meta:\n",
    "        line = line.strip()\n",
    "        if not line:\n",
    "            continue\n",
    "\n",
    "        parts = line.split(\"|\")\n",
    "        if len(parts) < 2:\n",
    "            print(f\"Skipping malformed line: {line}\")\n",
    "            continue\n",
    "        \n",
    "        original_filename_stem = parts[0]\n",
    "        original_lyrics = parts[1]\n",
    "        other_columns = parts[2:] # Store any additional columns\n",
    "\n",
    "        wav_filepath = wav_base_path / f\"{original_filename_stem}.wav\"\n",
    "        pitch_filepath = pitch_base_path / f\"{original_filename_stem}.npy\" # Assuming .npy\n",
    "        duration_filepath = duration_base_path / f\"{original_filename_stem}.npy\"\n",
    "        print(\"----------------------------------------------\")\n",
    "        print(f\"Processing: {original_filename_stem}\")\n",
    "        print(f\"  Original Lyrics: '{original_lyrics}' ({len(original_lyrics)})\")\n",
    "\n",
    "        # --- 2. Whisper STT ---\n",
    "        stt_start_time = time.time()\n",
    "        result = model.transcribe(str(wav_filepath), language=\"ko\")\n",
    "        stt_end_time = time.time()\n",
    "        GT_text = result[\"text\"]\n",
    "        print(f\"  STT Result: '{GT_text[:50]}' ({stt_end_time - stt_start_time:.2f} seconds)\")\n",
    "\n",
    "        # --- 3. Load Pitch, duration Sequence ---\n",
    "        pitch_sequence = np.load(pitch_filepath).tolist() # Assuming it's a simple array/list\n",
    "        duration_sequence = np.load(duration_filepath).tolist()\n",
    "        print(f\"  Original Pitch Sequence: {pitch_sequence}, {len(pitch_sequence)}\")\n",
    "        print(f\"  Original Duration Sequence: {duration_sequence}, {len(duration_sequence)}\")\n",
    "        \n",
    "        # --- 4. Text Normalization ---\n",
    "        try:\n",
    "            normalization_result = lyric_normalizer.normalize_lyrics(\n",
    "                gt_lyrics=GT_text,\n",
    "                raw_lyrics=original_lyrics,\n",
    "                pitch_sequence=pitch_sequence,\n",
    "                duration_sequence=duration_sequence,\n",
    "                normalize_spaces=True \n",
    "            )\n",
    "\n",
    "            normalized_lyrics_list = normalization_result.get('normalized_texts', [])\n",
    "            normalized_lyrics = \"\".join(normalized_lyrics_list)\n",
    "            normalized_durations = normalization_result.get('normalized_durations', []) \n",
    "            normalized_pitches = normalization_result.get('normalized_pitches', [])\n",
    "            print(f\"  Normalized Lyrics: '{normalized_lyrics}' ({len(normalized_lyrics)})\")\n",
    "            print(f\"  Normalized Durations: {normalized_durations}, {len(normalized_durations)}\")\n",
    "            print(f\"  Normalized Pitch Sequence: {normalized_pitches}, {len(normalized_pitches)}\\n\")\n",
    "\n",
    "        except Exception as e:\n",
    "            print(f\"  Error during text normalization for {original_filename_stem}: {e}\")\n",
    "            normalized_lyrics = original_lyrics # Fallback to original lyrics on error\n",
    "\n",
    "        # --- 5. Store for new metadata file ---\n",
    "        new_line_parts = [original_filename_stem]\n",
    "        if len(parts) > 1: # if there was an original lyric\n",
    "            new_line_parts.append(normalized_lyrics)\n",
    "        if len(parts) > 2: # if there were more columns\n",
    "            new_line_parts.extend(parts[2:])\n",
    "        \n",
    "        processed_lines.append(\"|\".join(new_line_parts))\n",
    "\n",
    "    # --- Write to normalized_metadata.txt ---\n",
    "    if processed_lines:\n",
    "        print(f\"\\nWriting normalized metadata to: {normalized_metadata_filepath}\")\n",
    "        with open(normalized_metadata_filepath, \"w\", encoding=\"utf-8\") as f_out:\n",
    "            for line in processed_lines:\n",
    "                f_out.write(line + \"\\n\")\n",
    "        print(\"Done.\")\n",
    "    else:\n",
    "        print(\"No lines were processed to write to normalized_metadata.txt.\")\n"
   ]
  },
  {
   "cell_type": "code",
   "execution_count": null,
   "metadata": {},
   "outputs": [],
   "source": []
  },
  {
   "cell_type": "code",
   "execution_count": null,
   "metadata": {},
   "outputs": [],
   "source": []
  }
 ],
 "metadata": {
  "kernelspec": {
   "display_name": ".venv",
   "language": "python",
   "name": "python3"
  },
  "language_info": {
   "codemirror_mode": {
    "name": "ipython",
    "version": 3
   },
   "file_extension": ".py",
   "mimetype": "text/x-python",
   "name": "python",
   "nbconvert_exporter": "python",
   "pygments_lexer": "ipython3",
   "version": "3.12.8"
  }
 },
 "nbformat": 4,
 "nbformat_minor": 2
}
