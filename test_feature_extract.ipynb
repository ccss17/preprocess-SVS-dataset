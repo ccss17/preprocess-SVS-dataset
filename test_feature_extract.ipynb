{
 "cells": [
  {
   "cell_type": "code",
   "execution_count": 1,
   "id": "a623f2ad",
   "metadata": {},
   "outputs": [],
   "source": [
    "import midii\n",
    "\n",
    "import preprocess_svs as ps\n",
    "from preprocess_svs.feature import extract_features"
   ]
  },
  {
   "cell_type": "code",
   "execution_count": 2,
   "id": "161133cb",
   "metadata": {},
   "outputs": [],
   "source": [
    "preprocessed_gv_path = 'preprocessed_gv/'\n",
    "preprocessed_mssv_path = 'preprocessed_mssv/'\n",
    "preprocessed_gv_wav_path = 'preprocessed_gv/wav/'\n",
    "preprocessed_mssv_wav_path = 'preprocessed_mssv/wav/'"
   ]
  },
  {
   "cell_type": "code",
   "execution_count": 3,
   "id": "ed1e740c",
   "metadata": {},
   "outputs": [],
   "source": [
    "preprocessed_gv_wav_paths = list(ps.get_files(preprocessed_gv_wav_path, 'wav'))"
   ]
  },
  {
   "cell_type": "code",
   "execution_count": 4,
   "id": "95809e69",
   "metadata": {},
   "outputs": [],
   "source": [
    "extracted_wav_sample = ps.read_wav(preprocessed_gv_wav_paths[0], normalize=True)"
   ]
  },
  {
   "cell_type": "code",
   "execution_count": 5,
   "id": "c8658e02",
   "metadata": {},
   "outputs": [
    {
     "name": "stderr",
     "output_type": "stream",
     "text": [
      "c:\\Users\\chans\\repo\\preprocess-SVS\\.venv\\Lib\\site-packages\\torch\\functional.py:730: UserWarning: stft with return_complex=False is deprecated. In a future pytorch release, stft will return complex tensors for all inputs, and return_complex=False will raise an error.\n",
      "Note: you can still call torch.view_as_real on the complex output to recover the old return format. (Triggered internally at C:\\actions-runner\\_work\\pytorch\\pytorch\\pytorch\\aten\\src\\ATen\\native\\SpectralOps.cpp:880.)\n",
      "  return _VF.stft(  # type: ignore[attr-defined]\n"
     ]
    }
   ],
   "source": [
    "f0, mel, energy = extract_features(extracted_wav_sample, sampling_rate=midii.DEFAULT_SAMPLING_RATE, n_fft=1024, win_length=1024, hop_length=256)"
   ]
  },
  {
   "cell_type": "code",
   "execution_count": 6,
   "id": "7ca5436a",
   "metadata": {},
   "outputs": [
    {
     "data": {
      "text/plain": [
       "(array([0., 0., 0., ..., 0., 0., 0.], shape=(1790,)), numpy.ndarray)"
      ]
     },
     "execution_count": 6,
     "metadata": {},
     "output_type": "execute_result"
    }
   ],
   "source": [
    "f0, type(f0)"
   ]
  },
  {
   "cell_type": "code",
   "execution_count": 7,
   "id": "de6e9b33",
   "metadata": {},
   "outputs": [
    {
     "data": {
      "text/plain": [
       "(tensor([[-7.1479, -6.9183, -7.3070,  ..., -5.6466, -6.0739, -6.3339],\n",
       "         [-6.6667, -6.5631, -7.3743,  ..., -3.8350, -4.1891, -4.6045],\n",
       "         [-7.0662, -7.0467, -7.5311,  ..., -4.6471, -4.8273, -5.2363],\n",
       "         ...,\n",
       "         [-6.2536, -5.7514, -5.5927,  ..., -9.1766, -7.3946, -7.3396],\n",
       "         [-6.3146, -6.3833, -6.2514,  ..., -9.0955, -7.2765, -7.2206],\n",
       "         [-6.6077, -6.6036, -6.3471,  ..., -9.4065, -7.6264, -7.5520]]),\n",
       " torch.Tensor)"
      ]
     },
     "execution_count": 7,
     "metadata": {},
     "output_type": "execute_result"
    }
   ],
   "source": [
    "mel, type(mel)"
   ]
  },
  {
   "cell_type": "code",
   "execution_count": 8,
   "id": "72f2d27f",
   "metadata": {},
   "outputs": [
    {
     "data": {
      "text/plain": [
       "(tensor([3.1426, 3.4497, 4.3272,  ..., 0.7822, 1.0256, 1.1691]), torch.Tensor)"
      ]
     },
     "execution_count": 8,
     "metadata": {},
     "output_type": "execute_result"
    }
   ],
   "source": [
    "energy, type(energy)"
   ]
  },
  {
   "cell_type": "code",
   "execution_count": 9,
   "id": "2a634ac0",
   "metadata": {},
   "outputs": [],
   "source": [
    "ps.save_f0_mel_energy(preprocessed_gv_wav_paths[0], preprocessed_gv_path)"
   ]
  },
  {
   "cell_type": "code",
   "execution_count": 10,
   "id": "56553529",
   "metadata": {},
   "outputs": [],
   "source": [
    "ps.save_all_f0_mel_energy(preprocessed_gv_wav_path, preprocessed_gv_path)"
   ]
  }
 ],
 "metadata": {
  "kernelspec": {
   "display_name": ".venv",
   "language": "python",
   "name": "python3"
  },
  "language_info": {
   "codemirror_mode": {
    "name": "ipython",
    "version": 3
   },
   "file_extension": ".py",
   "mimetype": "text/x-python",
   "name": "python",
   "nbconvert_exporter": "python",
   "pygments_lexer": "ipython3",
   "version": "3.12.8"
  }
 },
 "nbformat": 4,
 "nbformat_minor": 5
}
